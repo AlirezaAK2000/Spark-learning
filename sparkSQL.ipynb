{
 "cells": [
  {
   "cell_type": "markdown",
   "id": "6529beb7-1a81-4c36-98e1-87dce63cf74d",
   "metadata": {},
   "source": [
    "Dataset: https://www.kaggle.com/datasets/netflix-inc/netflix-prize-data"
   ]
  },
  {
   "cell_type": "code",
   "execution_count": 1,
   "id": "4c01e5f2-112e-40b9-b345-4c2e029b58f5",
   "metadata": {},
   "outputs": [],
   "source": [
    "from pyspark.sql import SparkSession"
   ]
  },
  {
   "cell_type": "code",
   "execution_count": 2,
   "id": "ad98a7ff-54a6-448a-b8e6-1b2d6cda09fb",
   "metadata": {
    "scrolled": true
   },
   "outputs": [
    {
     "name": "stderr",
     "output_type": "stream",
     "text": [
      "Setting default log level to \"WARN\".\n",
      "To adjust logging level use sc.setLogLevel(newLevel). For SparkR, use setLogLevel(newLevel).\n",
      "24/04/12 17:34:20 WARN NativeCodeLoader: Unable to load native-hadoop library for your platform... using builtin-java classes where applicable\n"
     ]
    },
    {
     "data": {
      "text/html": [
       "\n",
       "            <div>\n",
       "                <p><b>SparkSession - in-memory</b></p>\n",
       "                \n",
       "        <div>\n",
       "            <p><b>SparkContext</b></p>\n",
       "\n",
       "            <p><a href=\"http://192.168.1.109:4040\">Spark UI</a></p>\n",
       "\n",
       "            <dl>\n",
       "              <dt>Version</dt>\n",
       "                <dd><code>v3.5.1</code></dd>\n",
       "              <dt>Master</dt>\n",
       "                <dd><code>local[*]</code></dd>\n",
       "              <dt>AppName</dt>\n",
       "                <dd><code>netflix</code></dd>\n",
       "            </dl>\n",
       "        </div>\n",
       "        \n",
       "            </div>\n",
       "        "
      ],
      "text/plain": [
       "<pyspark.sql.session.SparkSession at 0x1124bd0a0>"
      ]
     },
     "execution_count": 2,
     "metadata": {},
     "output_type": "execute_result"
    }
   ],
   "source": [
    "spark = SparkSession.builder.appName('netflix').getOrCreate()\n",
    "spark"
   ]
  },
  {
   "cell_type": "code",
   "execution_count": 3,
   "id": "1c7e86c1-8a6c-44a0-bb21-4beaca10d999",
   "metadata": {
    "scrolled": true
   },
   "outputs": [
    {
     "name": "stderr",
     "output_type": "stream",
     "text": [
      "                                                                                \r"
     ]
    }
   ],
   "source": [
    "spark_df = spark.read.csv(\"datasets/Netflix/Netflix_User_Ratings.csv\", header=True, inferSchema=True)"
   ]
  },
  {
   "cell_type": "code",
   "execution_count": 4,
   "id": "bab77a98-8a98-4e4c-8ffa-0b29152cb1e7",
   "metadata": {},
   "outputs": [
    {
     "name": "stdout",
     "output_type": "stream",
     "text": [
      "+-------+------+----------+-------+\n",
      "| CustId|Rating|      Date|MovieId|\n",
      "+-------+------+----------+-------+\n",
      "|1488844|     3|2005-09-06|      1|\n",
      "| 822109|     5|2005-05-13|      1|\n",
      "| 885013|     4|2005-10-19|      1|\n",
      "|  30878|     4|2005-12-26|      1|\n",
      "| 823519|     3|2004-05-03|      1|\n",
      "| 893988|     3|2005-11-17|      1|\n",
      "| 124105|     4|2004-08-05|      1|\n",
      "|1248029|     3|2004-04-22|      1|\n",
      "|1842128|     4|2004-05-09|      1|\n",
      "|2238063|     3|2005-05-11|      1|\n",
      "|1503895|     4|2005-05-19|      1|\n",
      "|2207774|     5|2005-06-06|      1|\n",
      "|2590061|     3|2004-08-12|      1|\n",
      "|   2442|     3|2004-04-14|      1|\n",
      "| 543865|     4|2004-05-28|      1|\n",
      "|1209119|     4|2004-03-23|      1|\n",
      "| 804919|     4|2004-06-10|      1|\n",
      "|1086807|     3|2004-12-28|      1|\n",
      "|1711859|     4|2005-05-08|      1|\n",
      "| 372233|     5|2005-11-23|      1|\n",
      "+-------+------+----------+-------+\n",
      "only showing top 20 rows\n",
      "\n"
     ]
    }
   ],
   "source": [
    "spark_df.show()"
   ]
  },
  {
   "cell_type": "code",
   "execution_count": 5,
   "id": "0f753546-6bbb-4bcd-8ad2-6725933b25b9",
   "metadata": {},
   "outputs": [
    {
     "name": "stderr",
     "output_type": "stream",
     "text": [
      "[Stage 3:==============================================>          (17 + 4) / 21]\r"
     ]
    },
    {
     "name": "stdout",
     "output_type": "stream",
     "text": [
      "+-------+------------------+\n",
      "|MovieId|       avg(Rating)|\n",
      "+-------+------------------+\n",
      "|      1| 3.749542961608775|\n",
      "|      2|3.5586206896551724|\n",
      "|      3|3.6411530815109345|\n",
      "|      4|  2.73943661971831|\n",
      "|      5|3.9192982456140353|\n",
      "|      6| 3.084396467124632|\n",
      "|      7| 2.129032258064516|\n",
      "|      8|3.1898054996646548|\n",
      "|      9|2.6210526315789475|\n",
      "|     10| 3.180722891566265|\n",
      "|     11|3.0303030303030303|\n",
      "|     12|3.4175824175824174|\n",
      "|     13|             4.552|\n",
      "|     14|3.0254237288135593|\n",
      "|     15| 3.286206896551724|\n",
      "|     16|3.0985550203779177|\n",
      "|     17|  2.90320765334834|\n",
      "|     18|3.7843685879500093|\n",
      "|     19| 3.324675324675325|\n",
      "|     20| 3.146551724137931|\n",
      "+-------+------------------+\n",
      "only showing top 20 rows\n",
      "\n"
     ]
    },
    {
     "name": "stderr",
     "output_type": "stream",
     "text": [
      "                                                                                \r"
     ]
    }
   ],
   "source": [
    "spark_df.groupby('MovieId').avg('Rating').sort('MovieId').show()"
   ]
  },
  {
   "cell_type": "code",
   "execution_count": 6,
   "id": "8963a7ca-e59f-4cbd-9f55-080a07e244e1",
   "metadata": {},
   "outputs": [
    {
     "name": "stderr",
     "output_type": "stream",
     "text": [
      "                                                                                \r"
     ]
    },
    {
     "name": "stdout",
     "output_type": "stream",
     "text": [
      "+------+------------------+\n",
      "|CustId|       avg(Rating)|\n",
      "+------+------------------+\n",
      "|     6|   3.4185303514377|\n",
      "|     7| 4.011350737797957|\n",
      "|     8| 4.214285714285714|\n",
      "|    10|3.3923076923076922|\n",
      "|    25|3.4814814814814814|\n",
      "|    33|              3.75|\n",
      "|    42|          3.921875|\n",
      "|    59|3.7070063694267517|\n",
      "|    79| 3.548994974874372|\n",
      "|    83|           3.96875|\n",
      "|    87|3.6226415094339623|\n",
      "|    94| 3.424778761061947|\n",
      "|    97| 3.233201581027668|\n",
      "|   116| 4.185022026431718|\n",
      "|   126| 4.673469387755102|\n",
      "|   130| 4.046511627906977|\n",
      "|   131|3.1755725190839694|\n",
      "|   133|3.3333333333333335|\n",
      "|   134| 4.710990502035278|\n",
      "|   142|3.3333333333333335|\n",
      "+------+------------------+\n",
      "only showing top 20 rows\n",
      "\n"
     ]
    }
   ],
   "source": [
    "spark_df.groupby('CustId').avg('Rating').sort('CustId').show()"
   ]
  },
  {
   "cell_type": "code",
   "execution_count": 7,
   "id": "1e6cee0c-7983-4673-ab46-1ceea4087999",
   "metadata": {},
   "outputs": [
    {
     "name": "stdout",
     "output_type": "stream",
     "text": [
      "+-------+------+----------+-------+\n",
      "| CustId|Rating|      Date|MovieId|\n",
      "+-------+------+----------+-------+\n",
      "|1488844|     3|2005-09-06|      1|\n",
      "| 822109|     5|2005-05-13|      1|\n",
      "| 885013|     4|2005-10-19|      1|\n",
      "|  30878|     4|2005-12-26|      1|\n",
      "| 823519|     3|2004-05-03|      1|\n",
      "| 893988|     3|2005-11-17|      1|\n",
      "| 124105|     4|2004-08-05|      1|\n",
      "|1248029|     3|2004-04-22|      1|\n",
      "|1842128|     4|2004-05-09|      1|\n",
      "|2238063|     3|2005-05-11|      1|\n",
      "|1503895|     4|2005-05-19|      1|\n",
      "|2207774|     5|2005-06-06|      1|\n",
      "|2590061|     3|2004-08-12|      1|\n",
      "|   2442|     3|2004-04-14|      1|\n",
      "| 543865|     4|2004-05-28|      1|\n",
      "|1209119|     4|2004-03-23|      1|\n",
      "| 804919|     4|2004-06-10|      1|\n",
      "|1086807|     3|2004-12-28|      1|\n",
      "|1711859|     4|2005-05-08|      1|\n",
      "| 372233|     5|2005-11-23|      1|\n",
      "+-------+------+----------+-------+\n",
      "only showing top 20 rows\n",
      "\n"
     ]
    }
   ],
   "source": [
    "spark_df.show()"
   ]
  },
  {
   "cell_type": "code",
   "execution_count": 8,
   "id": "b3300e8e-3991-42e0-8afe-723ea8e5da43",
   "metadata": {},
   "outputs": [],
   "source": [
    "spark_df = spark_df.drop('CustId', 'Date')"
   ]
  },
  {
   "cell_type": "code",
   "execution_count": 9,
   "id": "b00eb98c-52ca-4817-94c2-04d5cbcde353",
   "metadata": {},
   "outputs": [
    {
     "name": "stdout",
     "output_type": "stream",
     "text": [
      "+------+-------+\n",
      "|Rating|MovieId|\n",
      "+------+-------+\n",
      "|     3|      1|\n",
      "|     5|      1|\n",
      "|     4|      1|\n",
      "|     4|      1|\n",
      "|     3|      1|\n",
      "|     3|      1|\n",
      "|     4|      1|\n",
      "|     3|      1|\n",
      "|     4|      1|\n",
      "|     3|      1|\n",
      "|     4|      1|\n",
      "|     5|      1|\n",
      "|     3|      1|\n",
      "|     3|      1|\n",
      "|     4|      1|\n",
      "|     4|      1|\n",
      "|     4|      1|\n",
      "|     3|      1|\n",
      "|     4|      1|\n",
      "|     5|      1|\n",
      "+------+-------+\n",
      "only showing top 20 rows\n",
      "\n"
     ]
    }
   ],
   "source": [
    "spark_df.show()"
   ]
  },
  {
   "cell_type": "code",
   "execution_count": null,
   "id": "431faad6-fded-454e-9aa1-d93244d9155e",
   "metadata": {},
   "outputs": [],
   "source": []
  }
 ],
 "metadata": {
  "kernelspec": {
   "display_name": "Python 3 (ipykernel)",
   "language": "python",
   "name": "python3"
  },
  "language_info": {
   "codemirror_mode": {
    "name": "ipython",
    "version": 3
   },
   "file_extension": ".py",
   "mimetype": "text/x-python",
   "name": "python",
   "nbconvert_exporter": "python",
   "pygments_lexer": "ipython3",
   "version": "3.12.2"
  }
 },
 "nbformat": 4,
 "nbformat_minor": 5
}
